{
 "cells": [
  {
   "cell_type": "code",
   "execution_count": 1,
   "id": "92bf7cab-2322-4b05-9124-d5fdc333d5b9",
   "metadata": {},
   "outputs": [],
   "source": [
    "import numpy as np\n"
   ]
  },
  {
   "cell_type": "code",
   "execution_count": 11,
   "id": "04abb039-1f1a-4ef0-b8fe-a6611c1bf9ee",
   "metadata": {},
   "outputs": [
    {
     "name": "stdout",
     "output_type": "stream",
     "text": [
      "The transpose matrix is [[1 3 2]\n",
      " [3 4 5]\n",
      " [9 5 8]]\n",
      "The addistion is [[ 4 10 17]\n",
      " [ 8 12 12]\n",
      " [ 3  5  8]]\n"
     ]
    }
   ],
   "source": [
    "a=np.array([[1,3,9],\n",
    "            [3,4,5],[2,5,8]])\n",
    "b=np.array([[3,7,8],[5,8,7],[1,0,0]])\n",
    "c= a+b\n",
    "\n",
    "transpose = a.T\n",
    "print('The transpose matrix is', transpose)\n",
    "\n",
    "print ('The addistion is' , c)"
   ]
  },
  {
   "cell_type": "code",
   "execution_count": null,
   "id": "06ed6944-ebfb-45de-aedc-a23884a63782",
   "metadata": {},
   "outputs": [],
   "source": []
  }
 ],
 "metadata": {
  "kernelspec": {
   "display_name": "Python 3 (ipykernel)",
   "language": "python",
   "name": "python3"
  },
  "language_info": {
   "codemirror_mode": {
    "name": "ipython",
    "version": 3
   },
   "file_extension": ".py",
   "mimetype": "text/x-python",
   "name": "python",
   "nbconvert_exporter": "python",
   "pygments_lexer": "ipython3",
   "version": "3.13.1"
  }
 },
 "nbformat": 4,
 "nbformat_minor": 5
}
