{
 "cells": [
  {
   "cell_type": "code",
   "execution_count": 3,
   "id": "d8cd86ce-6573-489c-ad14-a59685f74454",
   "metadata": {},
   "outputs": [
    {
     "name": "stdout",
     "output_type": "stream",
     "text": [
      "The addition is: [[20 22 24]\n",
      " [26 28 30]\n",
      " [32 34 36]\n",
      " [38 40 42]\n",
      " [44 46 48]\n",
      " [50 52 54]]\n"
     ]
    }
   ],
   "source": [
    "import numpy as np\n",
    "a=np.arange(0,18)\n",
    "b=np.arange(20,38)\n",
    "\n",
    "x=a.reshape(6,3)\n",
    "y=b.reshape(6,3)\n",
    "\n",
    "g=x+y\n",
    "print('The addition is:', g)"
   ]
  },
  {
   "cell_type": "code",
   "execution_count": null,
   "id": "1661703b-698a-4d20-b591-34d5927ddaff",
   "metadata": {},
   "outputs": [],
   "source": []
  }
 ],
 "metadata": {
  "kernelspec": {
   "display_name": "Python 3 (ipykernel)",
   "language": "python",
   "name": "python3"
  },
  "language_info": {
   "codemirror_mode": {
    "name": "ipython",
    "version": 3
   },
   "file_extension": ".py",
   "mimetype": "text/x-python",
   "name": "python",
   "nbconvert_exporter": "python",
   "pygments_lexer": "ipython3",
   "version": "3.13.1"
  }
 },
 "nbformat": 4,
 "nbformat_minor": 5
}
